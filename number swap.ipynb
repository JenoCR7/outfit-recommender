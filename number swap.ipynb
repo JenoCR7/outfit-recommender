{
  "nbformat": 4,
  "nbformat_minor": 0,
  "metadata": {
    "colab": {
      "provenance": [],
      "authorship_tag": "ABX9TyM3/QShTOmyHHhH8nizdHIQ",
      "include_colab_link": true
    },
    "kernelspec": {
      "name": "python3",
      "display_name": "Python 3"
    },
    "language_info": {
      "name": "python"
    }
  },
  "cells": [
    {
      "cell_type": "markdown",
      "metadata": {
        "id": "view-in-github",
        "colab_type": "text"
      },
      "source": [
        "<a href=\"https://colab.research.google.com/github/JenoCR7/outfit-recommender/blob/main/number%20swap.ipynb\" target=\"_parent\"><img src=\"https://colab.research.google.com/assets/colab-badge.svg\" alt=\"Open In Colab\"/></a>"
      ]
    },
    {
      "cell_type": "code",
      "execution_count": 1,
      "metadata": {
        "colab": {
          "base_uri": "https://localhost:8080/"
        },
        "id": "aj8lqN_HG7h6",
        "outputId": "e7426464-4e92-4f64-c588-d4d82f73aca3"
      },
      "outputs": [
        {
          "output_type": "stream",
          "name": "stdout",
          "text": [
            "a= 10\n",
            "b= 8\n"
          ]
        }
      ],
      "source": [
        "a=10\n",
        "b=8\n",
        "a=a+b\n",
        "a=a-b\n",
        "print(\"a=\",a)\n",
        "print(\"b=\",b)"
      ]
    },
    {
      "cell_type": "code",
      "source": [],
      "metadata": {
        "id": "1rrI4BhiNfJd"
      },
      "execution_count": null,
      "outputs": []
    }
  ]
}